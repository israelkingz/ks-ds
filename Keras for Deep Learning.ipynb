{
 "cells": [
  {
   "cell_type": "markdown",
   "metadata": {},
   "source": [
    "# Keras for DL"
   ]
  },
  {
   "cell_type": "markdown",
   "metadata": {},
   "source": [
    "Keras is a compact and easy-to-learn high-level Python library for deep learning that can run on top of TensorFlow (or Theano or CNTK). It allows Machine Learning Engineers to focus on the main concepts of deep learning, such as creating layers for neural networks, while taking care of mathematical details of tensors and their their shapes. \n",
    "\n"
   ]
  },
  {
   "cell_type": "markdown",
   "metadata": {},
   "source": [
    "TensorFlow (or Theano or CNTK) has to be the back end for Keras. Keras can be used for deep learning applications without interacting with the relatively complex TensorFlow (or Theano or CNTK). There are two major kinds of framework: the sequential API and the functional API. The sequential\n",
    "API is based on the idea of a sequence of layers; this is the most common and the easiest part of Keras. It is what we will work with. The sequential model can be considered as a linear stack of layers."
   ]
  },
  {
   "cell_type": "markdown",
   "metadata": {},
   "source": [
    "These are the major steps to developing deep learning models in Keras:\n",
    "\n",
    "* Define the model. Here you create a sequential model and add layers. Each layer can contain one or more convolution, pooling, batch normalization, and activation function. \n",
    "\n",
    "* Compile the model. Here you apply the loss function and optimizer before calling the compile() function on the model.\n",
    "\n",
    "* Fit the model with training data. Here you train the model on the test data by calling the fit() function on the model.\n",
    "\n",
    "* Make predictions. Here you use the model to generate predictions on new data by calling functions such as evaluate() and predict().\n",
    "\n"
   ]
  },
  {
   "cell_type": "markdown",
   "metadata": {},
   "source": [
    "## Deep Learning Process in Keras"
   ]
  },
  {
   "cell_type": "markdown",
   "metadata": {},
   "source": [
    "* Load the data.\n",
    "* Preprocess the data.\n",
    "* Define the model.\n",
    "* Compile the model.\n",
    "* Fit the model.\n",
    "* Evaluate the model.\n",
    "* Make the predictions.\n",
    "* Save the model."
   ]
  },
  {
   "cell_type": "markdown",
   "metadata": {},
   "source": [
    "### Example"
   ]
  },
  {
   "cell_type": "markdown",
   "metadata": {},
   "source": [
    "We first load all necessary modules and the dataset"
   ]
  },
  {
   "cell_type": "code",
   "execution_count": 3,
   "metadata": {},
   "outputs": [
    {
     "ename": "ModuleNotFoundError",
     "evalue": "No module named 'tensorflow'",
     "output_type": "error",
     "traceback": [
      "\u001b[1;31m---------------------------------------------------------------------------\u001b[0m",
      "\u001b[1;31mModuleNotFoundError\u001b[0m                       Traceback (most recent call last)",
      "\u001b[1;32m<ipython-input-3-f19702dc6617>\u001b[0m in \u001b[0;36m<module>\u001b[1;34m()\u001b[0m\n\u001b[0;32m      1\u001b[0m \u001b[1;32mimport\u001b[0m \u001b[0mnumpy\u001b[0m \u001b[1;32mas\u001b[0m \u001b[0mnp\u001b[0m\u001b[1;33m\u001b[0m\u001b[0m\n\u001b[0;32m      2\u001b[0m \u001b[1;32mimport\u001b[0m \u001b[0mos\u001b[0m\u001b[1;33m\u001b[0m\u001b[0m\n\u001b[1;32m----> 3\u001b[1;33m \u001b[1;32mimport\u001b[0m \u001b[0mtensorflow\u001b[0m \u001b[1;32mas\u001b[0m \u001b[0mtf\u001b[0m\u001b[1;33m\u001b[0m\u001b[0m\n\u001b[0m\u001b[0;32m      4\u001b[0m \u001b[1;32mimport\u001b[0m \u001b[0mkeras\u001b[0m\u001b[1;33m\u001b[0m\u001b[0m\n\u001b[0;32m      5\u001b[0m \u001b[1;33m\u001b[0m\u001b[0m\n",
      "\u001b[1;31mModuleNotFoundError\u001b[0m: No module named 'tensorflow'"
     ]
    }
   ],
   "source": [
    "import numpy as np\n",
    "import os\n",
    "import tensorflow as tf\n",
    "import keras\n",
    "\n",
    "from keras.datasets import cifar10\n",
    "from keras.models import Sequential\n",
    "from keras.layers.core import Dense, Dropout, Activation\n",
    "from keras.optimizers import Adam\n",
    "from keras.utils import np_utils"
   ]
  },
  {
   "cell_type": "code",
   "execution_count": 3,
   "metadata": {},
   "outputs": [
    {
     "name": "stdout",
     "output_type": "stream",
     "text": [
      "Downloading data from https://www.cs.toronto.edu/~kriz/cifar-10-python.tar.gz\n",
      "170500096/170498071 [==============================] - 583s 3us/step\n"
     ]
    }
   ],
   "source": [
    "#load the data\n",
    "np.random.seed(100)\n",
    "(x_train,y_train), (x_test,y_test) = cifar10.load_data()\n",
    "\n",
    "#cifar10 is a dataset containing images of 10 unique objects/animals. Each image has width=32px height=32px and RGB channel=3"
   ]
  },
  {
   "cell_type": "code",
   "execution_count": 5,
   "metadata": {},
   "outputs": [
    {
     "data": {
      "text/plain": [
       "(50000, 32, 32, 3)"
      ]
     },
     "execution_count": 5,
     "metadata": {},
     "output_type": "execute_result"
    }
   ],
   "source": [
    "x_train.shape"
   ]
  },
  {
   "cell_type": "markdown",
   "metadata": {},
   "source": [
    "Next the data is going to be preprocessed"
   ]
  },
  {
   "cell_type": "code",
   "execution_count": 6,
   "metadata": {},
   "outputs": [],
   "source": [
    "#we will flatten the data because the model cannot take the 2D structure of the data\n",
    "x_train= x_train.reshape(50000,3072) #32*32*3\n",
    "x_test= x_test.reshape(10000,3072)\n",
    "\n",
    "#we'll take the z-score of the data\n",
    "x_train = (x_train-np.mean(x_train))/np.std(x_train)\n",
    "x_test = (x_test-np.mean(x_test))/np.std(x_test)"
   ]
  },
  {
   "cell_type": "code",
   "execution_count": 7,
   "metadata": {},
   "outputs": [],
   "source": [
    "#we will do label encoding of the target class\n",
    "labels=10\n",
    "y_train = np_utils.to_categorical(y_train,labels)\n",
    "y_test = np_utils.to_categorical(y_test,labels)"
   ]
  },
  {
   "cell_type": "code",
   "execution_count": 8,
   "metadata": {},
   "outputs": [],
   "source": [
    "#Defination of the model architecture\n",
    "model = Sequential()\n",
    "model.add(Dense(512, input_shape=(3072,))) #3*32*32\n",
    "model.add(Activation('relu'))\n",
    "model.add(Dropout(0.4)) #Regularization\n",
    "\n",
    "model.add(Dense(120))\n",
    "model.add(Activation('relu'))\n",
    "model.add(Dropout(0.2))\n",
    "\n",
    "model.add(Dense(labels)) #last layer with 10 outputs\n",
    "model.add(Activation('sigmoid'))"
   ]
  },
  {
   "cell_type": "code",
   "execution_count": 9,
   "metadata": {},
   "outputs": [],
   "source": [
    "#compilation of model\n",
    "#The model uses adam optimizer\n",
    "adam= Adam(0.1)\n",
    "#The loss function is cross entropy\n",
    "model.compile(loss='categorical_crossentropy',optimizer=adam, metrics=['accuracy'])\n"
   ]
  },
  {
   "cell_type": "code",
   "execution_count": 8,
   "metadata": {},
   "outputs": [
    {
     "name": "stdout",
     "output_type": "stream",
     "text": [
      "Epoch 1/50\n",
      "50/50 [==============================] - 4s 84ms/step - loss: 4.8401 - accuracy: 0.1000 - val_loss: 4.8872 - val_accuracy: 0.1000\n",
      "Epoch 2/50\n",
      "50/50 [==============================] - 4s 76ms/step - loss: 4.8872 - accuracy: 0.1000 - val_loss: 4.8872 - val_accuracy: 0.1000\n",
      "Epoch 3/50\n",
      "50/50 [==============================] - 4s 71ms/step - loss: 4.8872 - accuracy: 0.1000 - val_loss: 4.8872 - val_accuracy: 0.1000\n",
      "Epoch 4/50\n",
      "50/50 [==============================] - 4s 77ms/step - loss: 4.8872 - accuracy: 0.1000 - val_loss: 4.8872 - val_accuracy: 0.1000\n",
      "Epoch 5/50\n",
      "50/50 [==============================] - 4s 86ms/step - loss: 4.8872 - accuracy: 0.1000 - val_loss: 4.8872 - val_accuracy: 0.1000\n",
      "Epoch 6/50\n",
      "50/50 [==============================] - 4s 87ms/step - loss: 4.8872 - accuracy: 0.1000 - val_loss: 4.8872 - val_accuracy: 0.1000\n",
      "Epoch 7/50\n",
      "50/50 [==============================] - 4s 73ms/step - loss: 4.8872 - accuracy: 0.1000 - val_loss: 4.8872 - val_accuracy: 0.1000\n",
      "Epoch 8/50\n",
      "50/50 [==============================] - 4s 72ms/step - loss: 4.8872 - accuracy: 0.1000 - val_loss: 4.8872 - val_accuracy: 0.1000\n",
      "Epoch 9/50\n",
      "50/50 [==============================] - 3s 70ms/step - loss: 4.8872 - accuracy: 0.1000 - val_loss: 4.8872 - val_accuracy: 0.1000\n",
      "Epoch 10/50\n",
      "50/50 [==============================] - 3s 68ms/step - loss: 4.8872 - accuracy: 0.1000 - val_loss: 4.8872 - val_accuracy: 0.1000\n",
      "Epoch 11/50\n",
      "50/50 [==============================] - 3s 69ms/step - loss: 4.8872 - accuracy: 0.1000 - val_loss: 4.8872 - val_accuracy: 0.1000\n",
      "Epoch 12/50\n",
      "50/50 [==============================] - 4s 72ms/step - loss: 4.8872 - accuracy: 0.1000 - val_loss: 4.8872 - val_accuracy: 0.1000\n",
      "Epoch 13/50\n",
      "50/50 [==============================] - 3s 67ms/step - loss: 4.8872 - accuracy: 0.1000 - val_loss: 4.8872 - val_accuracy: 0.1000\n",
      "Epoch 14/50\n",
      "50/50 [==============================] - 3s 67ms/step - loss: 4.8872 - accuracy: 0.1000 - val_loss: 4.8872 - val_accuracy: 0.1000\n",
      "Epoch 15/50\n",
      "50/50 [==============================] - 3s 67ms/step - loss: 4.8872 - accuracy: 0.1000 - val_loss: 4.8872 - val_accuracy: 0.1000\n",
      "Epoch 16/50\n",
      "50/50 [==============================] - 3s 69ms/step - loss: 4.8872 - accuracy: 0.1000 - val_loss: 4.8872 - val_accuracy: 0.1000\n",
      "Epoch 17/50\n",
      "50/50 [==============================] - 4s 71ms/step - loss: 4.8872 - accuracy: 0.1000 - val_loss: 4.8872 - val_accuracy: 0.1000\n",
      "Epoch 18/50\n",
      "50/50 [==============================] - 3s 68ms/step - loss: 4.8872 - accuracy: 0.1000 - val_loss: 4.8872 - val_accuracy: 0.1000\n",
      "Epoch 19/50\n",
      "50/50 [==============================] - 3s 69ms/step - loss: 4.8872 - accuracy: 0.1000 - val_loss: 4.8872 - val_accuracy: 0.1000\n",
      "Epoch 20/50\n",
      "50/50 [==============================] - 3s 69ms/step - loss: 4.8872 - accuracy: 0.1000 - val_loss: 4.8872 - val_accuracy: 0.1000\n",
      "Epoch 21/50\n",
      "50/50 [==============================] - 3s 69ms/step - loss: 4.8872 - accuracy: 0.1000 - val_loss: 4.8872 - val_accuracy: 0.1000\n",
      "Epoch 22/50\n",
      "50/50 [==============================] - 3s 69ms/step - loss: 4.8872 - accuracy: 0.1000 - val_loss: 4.8872 - val_accuracy: 0.1000\n",
      "Epoch 23/50\n",
      "50/50 [==============================] - 3s 67ms/step - loss: 4.8872 - accuracy: 0.1000 - val_loss: 4.8872 - val_accuracy: 0.1000\n",
      "Epoch 24/50\n",
      "50/50 [==============================] - 3s 69ms/step - loss: 4.8875 - accuracy: 0.1000 - val_loss: 4.8872 - val_accuracy: 0.1000\n",
      "Epoch 25/50\n",
      "50/50 [==============================] - 3s 67ms/step - loss: 4.8872 - accuracy: 0.1000 - val_loss: 4.8872 - val_accuracy: 0.1000\n",
      "Epoch 26/50\n",
      "50/50 [==============================] - 3s 70ms/step - loss: 4.8872 - accuracy: 0.1000 - val_loss: 4.8872 - val_accuracy: 0.1000\n",
      "Epoch 27/50\n",
      "50/50 [==============================] - 3s 68ms/step - loss: 4.8872 - accuracy: 0.1000 - val_loss: 4.8872 - val_accuracy: 0.1000\n",
      "Epoch 28/50\n",
      "50/50 [==============================] - 3s 69ms/step - loss: 4.8872 - accuracy: 0.1000 - val_loss: 4.8872 - val_accuracy: 0.1000\n",
      "Epoch 29/50\n",
      "50/50 [==============================] - 3s 68ms/step - loss: 4.8872 - accuracy: 0.1000 - val_loss: 4.8872 - val_accuracy: 0.1000\n",
      "Epoch 30/50\n",
      "50/50 [==============================] - 4s 71ms/step - loss: 4.8872 - accuracy: 0.1000 - val_loss: 4.8872 - val_accuracy: 0.1000\n",
      "Epoch 31/50\n",
      "50/50 [==============================] - 3s 68ms/step - loss: 4.8872 - accuracy: 0.1000 - val_loss: 4.8872 - val_accuracy: 0.1000\n",
      "Epoch 32/50\n",
      "50/50 [==============================] - 3s 69ms/step - loss: 4.8872 - accuracy: 0.1000 - val_loss: 4.8872 - val_accuracy: 0.1000\n",
      "Epoch 33/50\n",
      "50/50 [==============================] - 3s 69ms/step - loss: 4.8872 - accuracy: 0.1000 - val_loss: 4.8872 - val_accuracy: 0.1000\n",
      "Epoch 34/50\n",
      "50/50 [==============================] - 3s 69ms/step - loss: 4.8872 - accuracy: 0.1000 - val_loss: 4.8872 - val_accuracy: 0.1000\n",
      "Epoch 35/50\n",
      "50/50 [==============================] - 4s 70ms/step - loss: 4.8872 - accuracy: 0.1000 - val_loss: 4.8872 - val_accuracy: 0.1000\n",
      "Epoch 36/50\n",
      "50/50 [==============================] - 3s 68ms/step - loss: 4.8872 - accuracy: 0.1000 - val_loss: 4.8872 - val_accuracy: 0.1000\n",
      "Epoch 37/50\n",
      "50/50 [==============================] - 3s 67ms/step - loss: 4.8872 - accuracy: 0.1000 - val_loss: 4.8872 - val_accuracy: 0.1000\n",
      "Epoch 38/50\n",
      "50/50 [==============================] - 3s 68ms/step - loss: 4.8872 - accuracy: 0.1000 - val_loss: 4.8872 - val_accuracy: 0.1000\n",
      "Epoch 39/50\n",
      "50/50 [==============================] - 3s 69ms/step - loss: 4.8872 - accuracy: 0.1000 - val_loss: 4.8872 - val_accuracy: 0.1000\n",
      "Epoch 40/50\n",
      "50/50 [==============================] - 4s 70ms/step - loss: 4.8872 - accuracy: 0.1000 - val_loss: 4.8872 - val_accuracy: 0.1000\n",
      "Epoch 41/50\n",
      "50/50 [==============================] - 3s 68ms/step - loss: 4.8872 - accuracy: 0.1000 - val_loss: 4.8872 - val_accuracy: 0.1000\n",
      "Epoch 42/50\n",
      "50/50 [==============================] - 4s 81ms/step - loss: 4.8872 - accuracy: 0.1000 - val_loss: 4.8872 - val_accuracy: 0.1000\n",
      "Epoch 43/50\n",
      "50/50 [==============================] - 5s 92ms/step - loss: 4.8875 - accuracy: 0.1000 - val_loss: 4.8872 - val_accuracy: 0.1000\n",
      "Epoch 44/50\n",
      "50/50 [==============================] - 5s 102ms/step - loss: 4.8872 - accuracy: 0.1000 - val_loss: 4.8872 - val_accuracy: 0.1000\n",
      "Epoch 45/50\n",
      "50/50 [==============================] - 5s 98ms/step - loss: 4.8875 - accuracy: 0.1000 - val_loss: 4.8872 - val_accuracy: 0.1000\n",
      "Epoch 46/50\n",
      "50/50 [==============================] - 5s 96ms/step - loss: 4.8872 - accuracy: 0.1000 - val_loss: 4.8872 - val_accuracy: 0.1000\n",
      "Epoch 47/50\n",
      "50/50 [==============================] - 5s 101ms/step - loss: 4.8872 - accuracy: 0.1000 - val_loss: 4.8872 - val_accuracy: 0.1000\n",
      "Epoch 48/50\n",
      "50/50 [==============================] - 5s 98ms/step - loss: 4.8872 - accuracy: 0.1000 - val_loss: 4.8872 - val_accuracy: 0.1000\n",
      "Epoch 49/50\n",
      "50/50 [==============================] - 5s 96ms/step - loss: 4.8872 - accuracy: 0.1000 - val_loss: 4.8872 - val_accuracy: 0.1000\n",
      "Epoch 50/50\n",
      "50/50 [==============================] - 5s 95ms/step - loss: 4.8872 - accuracy: 0.1000 - val_loss: 4.8872 - val_accuracy: 0.1000\n"
     ]
    },
    {
     "data": {
      "text/plain": [
       "<tensorflow.python.keras.callbacks.History at 0x7f9ef4101dc0>"
      ]
     },
     "execution_count": 8,
     "metadata": {},
     "output_type": "execute_result"
    }
   ],
   "source": [
    "model.fit(x_train,y_train,batch_size=1000, epochs=50,validation_data=(x_test,y_test))"
   ]
  },
  {
   "cell_type": "code",
   "execution_count": 12,
   "metadata": {},
   "outputs": [
    {
     "name": "stdout",
     "output_type": "stream",
     "text": [
      "Test Accuracy: 0.10000000149011612\n"
     ]
    }
   ],
   "source": [
    "#let us evaluate how the model does on the test set\n",
    "score=model.evaluate(x_test,y_test, verbose=0)\n",
    "#Accuracy score\n",
    "print('Test Accuracy:',score[1])\n"
   ]
  },
  {
   "cell_type": "code",
   "execution_count": 13,
   "metadata": {},
   "outputs": [
    {
     "name": "stdout",
     "output_type": "stream",
     "text": [
      "WARNING:tensorflow:From <ipython-input-13-b759498e6364>:2: Sequential.predict_classes (from tensorflow.python.keras.engine.sequential) is deprecated and will be removed after 2021-01-01.\n",
      "Instructions for updating:\n",
      "Please use instead:* `np.argmax(model.predict(x), axis=-1)`,   if your model does multi-class classification   (e.g. if it uses a `softmax` last-layer activation).* `(model.predict(x) > 0.5).astype(\"int32\")`,   if your model does binary classification   (e.g. if it uses a `sigmoid` last-layer activation).\n"
     ]
    },
    {
     "data": {
      "text/plain": [
       "array([0, 0, 0, ..., 0, 0, 0])"
      ]
     },
     "execution_count": 13,
     "metadata": {},
     "output_type": "execute_result"
    }
   ],
   "source": [
    "# we can  now use our model for prediction\n",
    "model.predict_classes(x_test)"
   ]
  },
  {
   "cell_type": "code",
   "execution_count": 14,
   "metadata": {},
   "outputs": [
    {
     "name": "stdout",
     "output_type": "stream",
     "text": [
      "WARNING:tensorflow:From /home/ebenezer/anaconda3/lib/python3.8/site-packages/tensorflow/python/ops/resource_variable_ops.py:1813: calling BaseResourceVariable.__init__ (from tensorflow.python.ops.resource_variable_ops) with constraint is deprecated and will be removed in a future version.\n",
      "Instructions for updating:\n",
      "If using Keras pass *_constraint arguments to layers.\n",
      "INFO:tensorflow:Assets written to: model.cifar/assets\n"
     ]
    }
   ],
   "source": [
    "# we can save the model such that it can  be reloaded later\n",
    "model.save('model.cifar')\n",
    "JsonModel = model.to_json()\n",
    "model.save_weights('modelweights.cifar')"
   ]
  },
  {
   "cell_type": "code",
   "execution_count": 15,
   "metadata": {},
   "outputs": [],
   "source": [
    "# you can load the saved model weights\n",
    "ModelWeight = model.load_weights('modelweights.cifar')\n"
   ]
  },
  {
   "cell_type": "code",
   "execution_count": null,
   "metadata": {},
   "outputs": [],
   "source": []
  }
 ],
 "metadata": {
  "kernelspec": {
   "display_name": "Python 3",
   "language": "python",
   "name": "python3"
  },
  "language_info": {
   "codemirror_mode": {
    "name": "ipython",
    "version": 3
   },
   "file_extension": ".py",
   "mimetype": "text/x-python",
   "name": "python",
   "nbconvert_exporter": "python",
   "pygments_lexer": "ipython3",
   "version": "3.6.5"
  }
 },
 "nbformat": 4,
 "nbformat_minor": 4
}
